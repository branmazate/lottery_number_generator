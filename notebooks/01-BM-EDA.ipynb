{
 "cells": [
  {
   "cell_type": "markdown",
   "metadata": {},
   "source": [
    "# Lottery number generator\n",
    "This projects aims to identify and predict number generation patterns in lottery games based on historical data."
   ]
  },
  {
   "cell_type": "code",
   "execution_count": 1,
   "metadata": {},
   "outputs": [],
   "source": [
    "#Importing libraries\n",
    "import pandas as pd\n",
    "import numpy as np\n",
    "import sys\n",
    "import os\n",
    "\n",
    "#self-build project libraries\n",
    "sys.path.append(os.path.abspath(os.path.join('..','src')))\n",
    "from utils import web_scraping as ws\n"
   ]
  },
  {
   "cell_type": "markdown",
   "metadata": {},
   "source": [
    "Data scraping."
   ]
  },
  {
   "cell_type": "code",
   "execution_count": 2,
   "metadata": {},
   "outputs": [
    {
     "name": "stdout",
     "output_type": "stream",
     "text": [
      "Error extracting winner numbers: list index out of range\n",
      "No data available.\n",
      "Error extracting winner numbers: list index out of range\n",
      "No data available.\n",
      "Error extracting winner numbers: list index out of range\n",
      "No data available.\n",
      "Error extracting winner numbers: list index out of range\n",
      "No data available.\n",
      "Error extracting winner numbers: list index out of range\n",
      "No data available.\n",
      "Error extracting winner numbers: list index out of range\n",
      "No data available.\n",
      "Error extracting winner numbers: list index out of range\n",
      "No data available.\n",
      "Error extracting winner numbers: list index out of range\n",
      "No data available.\n",
      "Error extracting winner numbers: list index out of range\n",
      "No data available.\n",
      "Error extracting winner numbers: list index out of range\n",
      "No data available.\n",
      "Error extracting winner numbers: list index out of range\n",
      "No data available.\n",
      "Error extracting winner numbers: list index out of range\n",
      "No data available.\n",
      "Error extracting winner numbers: list index out of range\n",
      "No data available.\n",
      "Error extracting winner numbers: list index out of range\n",
      "No data available.\n",
      "Error extracting winner numbers: list index out of range\n",
      "No data available.\n",
      "Error extracting winner numbers: list index out of range\n",
      "No data available.\n",
      "Error extracting winner numbers: list index out of range\n",
      "No data available.\n",
      "Error extracting winner numbers: list index out of range\n",
      "No data available.\n",
      "Error extracting winner numbers: list index out of range\n",
      "No data available.\n",
      "Error extracting winner numbers: list index out of range\n",
      "No data available.\n",
      "Error extracting winner numbers: list index out of range\n",
      "No data available.\n",
      "Error extracting winner numbers: list index out of range\n",
      "No data available.\n",
      "Error extracting winner numbers: list index out of range\n",
      "No data available.\n",
      "Error extracting winner numbers: list index out of range\n",
      "No data available.\n",
      "Error extracting winner numbers: list index out of range\n",
      "No data available.\n",
      "Error extracting winner numbers: list index out of range\n",
      "No data available.\n"
     ]
    }
   ],
   "source": [
    "base_url = \"https://www.loteria.org.gt/site/award-detail?id=168&sorteo=3037&TipoSorteo=Ordinario\"\n",
    "start_id = 168\n",
    "end_id = 193\n",
    "\n",
    "data = ws.scrape_multiple_pages(base_url, start_id, end_id)"
   ]
  }
 ],
 "metadata": {
  "kernelspec": {
   "display_name": "Python 3",
   "language": "python",
   "name": "python3"
  },
  "language_info": {
   "codemirror_mode": {
    "name": "ipython",
    "version": 3
   },
   "file_extension": ".py",
   "mimetype": "text/x-python",
   "name": "python",
   "nbconvert_exporter": "python",
   "pygments_lexer": "ipython3",
   "version": "3.12.2"
  }
 },
 "nbformat": 4,
 "nbformat_minor": 2
}
